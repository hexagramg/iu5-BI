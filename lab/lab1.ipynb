{
  "nbformat": 4,
  "nbformat_minor": 0,
  "metadata": {
    "colab": {
      "name": "lab1.ipynb",
      "provenance": [],
      "authorship_tag": "ABX9TyMf9/SV9w4IhtovmfooCUra",
      "include_colab_link": true
    },
    "kernelspec": {
      "name": "python3",
      "display_name": "Python 3"
    }
  },
  "cells": [
    {
      "cell_type": "markdown",
      "metadata": {
        "id": "view-in-github",
        "colab_type": "text"
      },
      "source": [
        "<a href=\"https://colab.research.google.com/github/hexagramg/iu5-BI/blob/master/lab/lab1.ipynb\" target=\"_parent\"><img src=\"https://colab.research.google.com/assets/colab-badge.svg\" alt=\"Open In Colab\"/></a>"
      ]
    },
    {
      "cell_type": "code",
      "metadata": {
        "id": "VsgFIVpilZkZ",
        "colab_type": "code",
        "colab": {}
      },
      "source": [
        "\n",
        "\n",
        "import tensorflow.compat.v1 as tf\n",
        "import numpy as np\n",
        "\n",
        "tf.disable_v2_behavior()"
      ],
      "execution_count": 0,
      "outputs": []
    },
    {
      "cell_type": "code",
      "metadata": {
        "id": "FnTIoZaeli0O",
        "colab_type": "code",
        "colab": {}
      },
      "source": [
        "bandits = [0.2,0,-0.2,-5]\n",
        "num_bandits = len(bandits)\n",
        "def pullBandit(bandit):\n",
        "    \n",
        "    result = np.random.randn(1)\n",
        "    if result > bandit:\n",
        "        #Выигрыш \n",
        "        return 1\n",
        "    else:\n",
        "        #Проигрыш\n",
        "        return -1"
      ],
      "execution_count": 0,
      "outputs": []
    },
    {
      "cell_type": "code",
      "metadata": {
        "id": "e1wPNo8oltXs",
        "colab_type": "code",
        "colab": {}
      },
      "source": [
        "tf.reset_default_graph()\n",
        "\n",
        "#Часть сети прямого распространения. Осуществляет выбор.\n",
        "weights = tf.Variable(tf.ones([num_bandits]))\n",
        "chosen_action = tf.argmax(weights,0)\n",
        "\n",
        "#Следующие строки осуществляют тренировку\n",
        "reward_holder = tf.placeholder(shape=[1],dtype=tf.float32)\n",
        "action_holder = tf.placeholder(shape=[1],dtype=tf.int32)\n",
        "responsible_weight = tf.slice(weights,action_holder,[1])\n",
        "loss = -(tf.log(responsible_weight)*reward_holder)\n",
        "optimizer = tf.train.GradientDescentOptimizer(learning_rate=0.001)\n",
        "update = optimizer.minimize(loss)"
      ],
      "execution_count": 0,
      "outputs": []
    },
    {
      "cell_type": "code",
      "metadata": {
        "id": "F5_k4-XZl3CS",
        "colab_type": "code",
        "colab": {
          "base_uri": "https://localhost:8080/",
          "height": 225
        },
        "outputId": "fd15c20c-31a5-4e90-cdec-8dbf0109b8de"
      },
      "source": [
        "total_episodes = 1000 #Количество эпизодов\n",
        "total_reward = np.zeros(num_bandits) #Таблица лидеров бандитов\n",
        "e = 0.1 #Шанс случайного выбора\n",
        "\n",
        "init = tf.initialize_all_variables()\n",
        "\n",
        "with tf.Session() as sess:\n",
        "    sess.run(init)\n",
        "    i = 0\n",
        "    while i < total_episodes:\n",
        "        \n",
        "        if np.random.rand(1) < e:\n",
        "            action = np.random.randint(num_bandits)\n",
        "        else:\n",
        "            action = sess.run(chosen_action)\n",
        "        \n",
        "        reward = pullBandit(bandits[action])\n",
        "        \n",
        "        #Обноаление сети\n",
        "        _,resp,ww = sess.run([update,responsible_weight,weights], feed_dict={reward_holder:[reward],action_holder:[action]})\n",
        "        \n",
        "        #Обновление таблицы лидеров\n",
        "        total_reward[action] += reward\n",
        "        if i % 100 == 0:\n",
        "            print(f\"Награда для следующего количества бандитов {num_bandits}: {total_reward}\")\n",
        "        i+=1\n",
        "print(f\"Агент выбрал следующешл бандита лучшим -- {np.argmax(ww)+1}\")\n",
        "if np.argmax(ww) == np.argmax(-np.array(bandits)):\n",
        "    print(\"...и он был прав\")\n",
        "else:\n",
        "    print(\"...и он был не прав\")"
      ],
      "execution_count": 11,
      "outputs": [
        {
          "output_type": "stream",
          "text": [
            "Награда для следующего количества бандитов 4: [-1.  0.  0.  0.]\n",
            "Награда для следующего количества бандитов 4: [-2.  0.  0. 57.]\n",
            "Награда для следующего количества бандитов 4: [ -2.   0.   0. 153.]\n",
            "Награда для следующего количества бандитов 4: [  1.   0.   2. 244.]\n",
            "Награда для следующего количества бандитов 4: [ -1.   0.   2. 338.]\n",
            "Награда для следующего количества бандитов 4: [ -4.   1.   4. 428.]\n",
            "Награда для следующего количества бандитов 4: [ -1.  -1.   4. 523.]\n",
            "Награда для следующего количества бандитов 4: [ -1.  -3.   2. 617.]\n",
            "Награда для следующего количества бандитов 4: [ -2.  -2.   3. 706.]\n",
            "Награда для следующего количества бандитов 4: [ -1.   0.   4. 800.]\n",
            "Агент выбрал следующешл бандита лучшим -- 4\n",
            "...и он был прав\n"
          ],
          "name": "stdout"
        }
      ]
    }
  ]
}